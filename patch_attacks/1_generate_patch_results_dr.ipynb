{
 "cells": [
  {
   "cell_type": "markdown",
   "metadata": {
    "ein.tags": "worksheet-0",
    "slideshow": {
     "slide_type": "-"
    }
   },
   "source": [
    "## Set WD"
   ]
  },
  {
   "cell_type": "code",
   "execution_count": 1,
   "metadata": {
    "autoscroll": false,
    "collapsed": true,
    "ein.hycell": false,
    "ein.tags": "worksheet-0",
    "slideshow": {
     "slide_type": "-"
    }
   },
   "outputs": [],
   "source": [
    "import os\n",
    "os.chdir(\"/home/sgf2/DBMI_server/adversarial_attacks/retinopathy/\")"
   ]
  },
  {
   "cell_type": "code",
   "execution_count": 2,
   "metadata": {
    "autoscroll": false,
    "ein.hycell": false,
    "ein.tags": "worksheet-0",
    "slideshow": {
     "slide_type": "-"
    }
   },
   "outputs": [],
   "source": [
    "import scipy.stats as st\n",
    "from tensorflow import keras \n",
    "from sklearn import metrics\n",
    "from sklearn.metrics import auc\n",
    "\n",
    "def mean_ci(x):\n",
    "    mn = np.mean(x)\n",
    "    ci = st.t.interval(0.95, len(x)-1, loc=np.mean(x), scale=st.sem(x))\n",
    "    return (mn, ci[0], ci[1])\n",
    "\n",
    "def printResults(model_preds, y_test):\n",
    "    acc = np.mean(np.round(model_preds)[:,0] == y_test[:,0])\n",
    "    print('Test accuracy: %0.4f' % acc)\n",
    "\n",
    "    fpr, tpr, thresholds = metrics.roc_curve(y_test[:,1], model_preds[:,1])\n",
    "    auc_score = auc(fpr,tpr)\n",
    "    print('AUC: %0.4f' % auc_score)\n",
    "\n",
    "    conf = mean_ci(np.max(model_preds, axis = 1))\n",
    "    print('Avg. Confidence: ' + '{0:.6f} '.format(conf[0]) + \\\n",
    "          '({0:.6f}'.format(conf[1]) + ' - {0:.6f})'.format(conf[2]))"
   ]
  },
  {
   "cell_type": "markdown",
   "metadata": {
    "ein.tags": "worksheet-0",
    "slideshow": {
     "slide_type": "-"
    }
   },
   "source": [
    "## Set up"
   ]
  },
  {
   "cell_type": "code",
   "execution_count": 3,
   "metadata": {
    "autoscroll": false,
    "ein.hycell": false,
    "ein.tags": "worksheet-0",
    "slideshow": {
     "slide_type": "-"
    }
   },
   "outputs": [],
   "source": [
    "%load_ext autoreload\n",
    "%autoreload 2\n",
    "\n",
    "%matplotlib inline\n",
    "from craft_attack_patch import *"
   ]
  },
  {
   "cell_type": "markdown",
   "metadata": {
    "ein.tags": "worksheet-0",
    "slideshow": {
     "slide_type": "-"
    }
   },
   "source": [
    "# Adversarial Patch Attack"
   ]
  },
  {
   "cell_type": "markdown",
   "metadata": {
    "ein.tags": "worksheet-0",
    "slideshow": {
     "slide_type": "-"
    }
   },
   "source": [
    "## Train Patches"
   ]
  },
  {
   "cell_type": "code",
   "execution_count": 4,
   "metadata": {},
   "outputs": [
    {
     "name": "stdout",
     "output_type": "stream",
     "text": [
      "WARNING:tensorflow:From /Users/madeline/Documents/GitHub/adversarial-medicine/patch_attacks/craft_attack_patch.py:66: The name tf.Session is deprecated. Please use tf.compat.v1.Session instead.\n",
      "\n",
      "WARNING:tensorflow:From /Users/madeline/Documents/GitHub/adversarial-medicine/patch_attacks/craft_attack_patch.py:200: The name tf.keras.backend.set_session is deprecated. Please use tf.compat.v1.keras.backend.set_session instead.\n",
      "\n",
      "WARNING:tensorflow:From /Users/madeline/Documents/GitHub/adversarial-medicine/patch_attacks/craft_attack_patch.py:207: The name tf.placeholder_with_default is deprecated. Please use tf.compat.v1.placeholder_with_default instead.\n",
      "\n",
      "WARNING:tensorflow:From /Users/madeline/Documents/GitHub/adversarial-medicine/patch_attacks/craft_attack_patch.py:209: The name tf.random_uniform is deprecated. Please use tf.random.uniform instead.\n",
      "\n",
      "WARNING:tensorflow:From /Users/madeline/Documents/GitHub/adversarial-medicine/patch_attacks/craft_attack_patch.py:216: The name tf.get_variable is deprecated. Please use tf.compat.v1.get_variable instead.\n",
      "\n",
      "WARNING:tensorflow:From /Users/madeline/Documents/GitHub/adversarial-medicine/patch_attacks/craft_attack_patch.py:218: The name tf.placeholder is deprecated. Please use tf.compat.v1.placeholder instead.\n",
      "\n",
      "WARNING:tensorflow:From /Users/madeline/Documents/GitHub/adversarial-medicine/patch_attacks/craft_attack_patch.py:220: The name tf.assign is deprecated. Please use tf.compat.v1.assign instead.\n",
      "\n",
      "WARNING:tensorflow:From /Users/madeline/Documents/GitHub/adversarial-medicine/patch_attacks/craft_attack_patch.py:231: The name tf.image.resize_images is deprecated. Please use tf.image.resize instead.\n",
      "\n",
      "WARNING:tensorflow:From /Users/madeline/Documents/GitHub/adversarial-medicine/patch_attacks/craft_attack_patch.py:236: calling dropout (from tensorflow.python.ops.nn_ops) with keep_prob is deprecated and will be removed in a future version.\n",
      "Instructions for updating:\n",
      "Please use `rate` instead of `keep_prob`. Rate should be set to `rate = 1 - keep_prob`.\n",
      "WARNING:tensorflow:From /Users/madeline/Documents/GitHub/adversarial-medicine/patch_attacks/craft_attack_patch.py:316: py_func (from tensorflow.python.ops.script_ops) is deprecated and will be removed in a future version.\n",
      "Instructions for updating:\n",
      "tf.py_func is deprecated in TF V2. Instead, there are two\n",
      "    options available in V2.\n",
      "    - tf.py_function takes a python function which manipulates tf eager\n",
      "    tensors instead of numpy arrays. It's easy to convert a tf eager tensor to\n",
      "    an ndarray (just call tensor.numpy()) but having access to eager tensors\n",
      "    means `tf.py_function`s can use accelerators such as GPUs as well as\n",
      "    being differentiable using a gradient tape.\n",
      "    - tf.numpy_function maintains the semantics of the deprecated tf.py_func\n",
      "    (it is not differentiable, and manipulates numpy arrays). It drops the\n",
      "    stateful argument making all functions stateful.\n",
      "    \n",
      "WARNING:tensorflow:\n",
      "The TensorFlow contrib module will not be included in TensorFlow 2.0.\n",
      "For more information, please see:\n",
      "  * https://github.com/tensorflow/community/blob/master/rfcs/20180907-contrib-sunset.md\n",
      "  * https://github.com/tensorflow/addons\n",
      "  * https://github.com/tensorflow/io (for I/O related ops)\n",
      "If you depend on functionality not listed there, please file an issue.\n",
      "\n",
      "WARNING:tensorflow:From /Users/madeline/opt/anaconda3/lib/python3.7/site-packages/tensorflow_core/python/ops/resource_variable_ops.py:1630: calling BaseResourceVariable.__init__ (from tensorflow.python.ops.resource_variable_ops) with constraint is deprecated and will be removed in a future version.\n",
      "Instructions for updating:\n",
      "If using Keras pass *_constraint arguments to layers.\n",
      "WARNING:tensorflow:From /Users/madeline/Documents/GitHub/adversarial-medicine/patch_attacks/craft_attack_patch.py:264: softmax_cross_entropy_with_logits (from tensorflow.python.ops.nn_ops) is deprecated and will be removed in a future version.\n",
      "Instructions for updating:\n",
      "\n",
      "Future major versions of TensorFlow will allow gradients to flow\n",
      "into the labels input on backprop by default.\n",
      "\n",
      "See `tf.nn.softmax_cross_entropy_with_logits_v2`.\n",
      "\n",
      "WARNING:tensorflow:From /Users/madeline/Documents/GitHub/adversarial-medicine/patch_attacks/craft_attack_patch.py:275: The name tf.train.GradientDescentOptimizer is deprecated. Please use tf.compat.v1.train.GradientDescentOptimizer instead.\n",
      "\n",
      "WARNING:tensorflow:From /Users/madeline/opt/anaconda3/lib/python3.7/site-packages/tensorflow_core/python/ops/math_grad.py:1424: where (from tensorflow.python.ops.array_ops) is deprecated and will be removed in a future version.\n",
      "Instructions for updating:\n",
      "Use tf.where in 2.0, which has the same broadcast rule as np.where\n",
      "Finished loading resnet1, took 11s\n",
      "Finished loading resnet2, took 11s\n"
     ]
    }
   ],
   "source": [
    "# Hyperparameters\n",
    "epochs = 7\n",
    "learning_rate = 5.0\n",
    "\n",
    "# Load the models\n",
    "resnet1 = ModelContainer('resnet1')\n",
    "resnet2 = ModelContainer('resnet2')\n",
    "\n",
    "# White Box\n",
    "model = resnet1"
   ]
  },
  {
   "cell_type": "code",
   "execution_count": 5,
   "metadata": {
    "autoscroll": false,
    "ein.hycell": false,
    "ein.tags": "worksheet-0",
    "slideshow": {
     "slide_type": "-"
    }
   },
   "outputs": [
    {
     "name": "stdout",
     "output_type": "stream",
     "text": [
      "(minibatch 0) loss: 0.040262375\n",
      "(minibatch 1) loss: 0.08256991\n",
      "Loss after epoch 0: 0.06141614355146885\n",
      "(minibatch 0) loss: 0.064691305\n",
      "(minibatch 1) loss: 0.026922539\n",
      "Loss after epoch 1: 0.045806922018527985\n",
      "(minibatch 0) loss: 0.018082984\n",
      "(minibatch 1) loss: 0.03639567\n",
      "Loss after epoch 2: 0.027239326387643814\n",
      "(minibatch 0) loss: 0.034805335\n",
      "(minibatch 1) loss: 0.021649394\n",
      "Loss after epoch 3: 0.028227364644408226\n",
      "(minibatch 0) loss: 0.013106367\n",
      "(minibatch 1) loss: 0.02710318\n",
      "Loss after epoch 4: 0.020104773342609406\n",
      "(minibatch 0) loss: 0.02325341\n",
      "(minibatch 1) loss: 0.017359167\n",
      "Loss after epoch 5: 0.02030628826469183\n",
      "(minibatch 0) loss: 0.010540426\n",
      "(minibatch 1) loss: 0.03167036\n",
      "Loss after epoch 6: 0.021105393767356873\n",
      "(minibatch 0) loss: 3.8533456\n",
      "(minibatch 1) loss: 3.836861\n",
      "Loss after epoch 0: 3.8451032638549805\n",
      "(minibatch 0) loss: 2.8404264\n",
      "(minibatch 1) loss: 2.0954587\n",
      "Loss after epoch 1: 2.4679425954818726\n",
      "(minibatch 0) loss: 1.1556917\n",
      "(minibatch 1) loss: 1.5511007\n",
      "Loss after epoch 2: 1.353396236896515\n",
      "(minibatch 0) loss: 1.1468153\n",
      "(minibatch 1) loss: 0.9713608\n",
      "Loss after epoch 3: 1.0590880513191223\n",
      "(minibatch 0) loss: 2.2097635\n",
      "(minibatch 1) loss: 2.4381838\n",
      "Loss after epoch 4: 2.3239736557006836\n",
      "(minibatch 0) loss: 0.9978734\n",
      "(minibatch 1) loss: 1.3214738\n",
      "Loss after epoch 5: 1.1596736311912537\n",
      "(minibatch 0) loss: 0.5409344\n",
      "(minibatch 1) loss: 1.1764411\n",
      "Loss after epoch 6: 0.8586877286434174\n",
      "(minibatch 0) loss: 0.08695062\n",
      "(minibatch 1) loss: 0.07424209\n",
      "Loss after epoch 0: 0.08059635758399963\n",
      "(minibatch 0) loss: 0.06778244\n",
      "(minibatch 1) loss: 0.061709374\n",
      "Loss after epoch 1: 0.06474590674042702\n",
      "(minibatch 0) loss: 0.06751491\n",
      "(minibatch 1) loss: 0.07820496\n",
      "Loss after epoch 2: 0.07285993546247482\n",
      "(minibatch 0) loss: 0.043544956\n",
      "(minibatch 1) loss: 0.030705508\n",
      "Loss after epoch 3: 0.0371252316981554\n",
      "(minibatch 0) loss: 0.04911676\n",
      "(minibatch 1) loss: 0.030997498\n",
      "Loss after epoch 4: 0.040057129226624966\n",
      "(minibatch 0) loss: 0.1006778\n",
      "(minibatch 1) loss: 0.026201088\n",
      "Loss after epoch 5: 0.06343944557011127\n",
      "(minibatch 0) loss: 0.08893485\n",
      "(minibatch 1) loss: 0.010557538\n",
      "Loss after epoch 6: 0.049746195785701275\n",
      "(minibatch 0) loss: 3.819426\n",
      "(minibatch 1) loss: 3.523886\n",
      "Loss after epoch 0: 3.671656012535095\n",
      "(minibatch 0) loss: 3.3238978\n",
      "(minibatch 1) loss: 2.9894469\n",
      "Loss after epoch 1: 3.1566723585128784\n",
      "(minibatch 0) loss: 1.7514637\n",
      "(minibatch 1) loss: 2.4152844\n",
      "Loss after epoch 2: 2.0833740234375\n",
      "(minibatch 0) loss: 2.403929\n",
      "(minibatch 1) loss: 1.7787678\n",
      "Loss after epoch 3: 2.09134840965271\n",
      "(minibatch 0) loss: 2.5017252\n",
      "(minibatch 1) loss: 0.89568365\n",
      "Loss after epoch 4: 1.6987044215202332\n",
      "(minibatch 0) loss: 2.2973568\n",
      "(minibatch 1) loss: 3.170424\n",
      "Loss after epoch 5: 2.733890414237976\n",
      "(minibatch 0) loss: 1.7874966\n",
      "(minibatch 1) loss: 1.4387276\n",
      "Loss after epoch 6: 1.6131120920181274\n"
     ]
    }
   ],
   "source": [
    "# Target 0\n",
    "train(model, target_label=0, epochs=epochs, learning_rate=learning_rate)\n",
    "file_name = './patches/resnet1_patch_target0_epoch' + str(epochs) + '_wb.npy'\n",
    "np.save(file_name, model.patch())\n",
    "\n",
    "# Target 1\n",
    "train(model, target_label=1, epochs=epochs, learning_rate=learning_rate)\n",
    "file_name = './patches/resnet1_patch_target1_epoch' + str(epochs) + '_wb.npy'\n",
    "np.save(file_name, model.patch())\n",
    "\n",
    "# Black Box\n",
    "model = resnet2\n",
    "\n",
    "# Target 0\n",
    "train(model, target_label=0, epochs=epochs, learning_rate=learning_rate)\n",
    "file_name = './patches/resnet1_patch_target0_epoch' + str(epochs) + '_bb.npy'\n",
    "np.save(file_name, model.patch())\n",
    "\n",
    "# Target 1\n",
    "train(model, target_label=1, epochs=epochs, learning_rate=learning_rate)\n",
    "file_name = './patches/resnet1_patch_target1_epoch' + str(epochs) + '_bb.npy'\n",
    "np.save(file_name, model.patch())"
   ]
  },
  {
   "cell_type": "markdown",
   "metadata": {
    "ein.tags": "worksheet-0",
    "slideshow": {
     "slide_type": "-"
    }
   },
   "source": [
    "## Display Results"
   ]
  },
  {
   "cell_type": "code",
   "execution_count": 7,
   "metadata": {
    "autoscroll": false,
    "ein.hycell": false,
    "ein.tags": "worksheet-0",
    "scrolled": true,
    "slideshow": {
     "slide_type": "-"
    }
   },
   "outputs": [],
   "source": [
    "################################# THIS IS THE ONLY CELL THAT WAS ADDED #############\n",
    "# Pick the images to show (attack). Here I randomly chose 2 from each class\n",
    "show(image_loader.X_test[3]) # label 0\n",
    "# show(image_loader.X_test[200]) # label 0 \n",
    "# show(image_loader.X_test[401]) # label 1\n",
    "# show(image_loader.X_test[453]) # label 1"
   ]
  },
  {
   "cell_type": "code",
   "execution_count": 8,
   "metadata": {},
   "outputs": [
    {
     "name": "stdout",
     "output_type": "stream",
     "text": [
      "Finished loading resnet1, took 10s\n",
      "Finished loading resnet2, took 11s\n"
     ]
    }
   ],
   "source": [
    "################################# THIS IS THE ONLY CELL THAT WAS MODIFIED #############\n",
    "epochs = 7\n",
    "# Load the models\n",
    "resnet1 = ModelContainer('resnet1')\n",
    "resnet2 = ModelContainer('resnet2')\n",
    "\n",
    "# Loading the patch file \n",
    "resnet1_patch_target1_wb = np.load('./patches/resnet1_patch_target1_epoch' + str(epochs) + '_wb.npy')\n",
    "resnet1_patch_target0_wb = np.load('./patches/resnet1_patch_target0_epoch' + str(epochs) + '_wb.npy')"
   ]
  },
  {
   "cell_type": "code",
   "execution_count": 11,
   "metadata": {
    "autoscroll": false,
    "ein.hycell": false,
    "ein.tags": "worksheet-0",
    "scrolled": false,
    "slideshow": {
     "slide_type": "-"
    }
   },
   "outputs": [
    {
     "name": "stdout",
     "output_type": "stream",
     "text": [
      "12   [ 8  9 10 11 12 13 14 15]   [12]\n",
      "0   [0 1 2 3 4 5 6 7]   [0]\n",
      "White Box:\n",
      "Test accuracy: 0.0625\n",
      "AUC: 0.0000\n",
      "Avg. Confidence: 0.926637 (0.854111 - 0.999164)\n"
     ]
    }
   ],
   "source": [
    "# Indices of images to show (use n_show=0 when using show_indices feature)\n",
    "show_indices0 = [12] # attack with target label 0\n",
    "show_indices1 = [0]\n",
    "\n",
    "# Apply\n",
    "scale = 0.4\n",
    "probs_patched_images, probs_original_images,indices, true_labels, winp = attack_combined(resnet1,patch_for_0=resnet1_patch_target0_wb,\n",
    "                                                                         patch_for_1=resnet1_patch_target1_wb,\n",
    "                                                                         n_show=0, scale=scale,\n",
    "                                                                         show_indices0=show_indices0,\n",
    "                                                                         show_indices1=show_indices1,\n",
    "                                                                         predict_original=False\n",
    "                                                                                        )\n",
    "\n",
    "\n",
    "# Print\n",
    "print(\"White Box:\")\n",
    "printResults(probs_patched_images, keras.utils.to_categorical(true_labels))"
   ]
  },
  {
   "cell_type": "code",
   "execution_count": 12,
   "metadata": {
    "autoscroll": false,
    "ein.hycell": false,
    "ein.tags": "worksheet-0",
    "scrolled": true,
    "slideshow": {
     "slide_type": "-"
    }
   },
   "outputs": [
    {
     "name": "stdout",
     "output_type": "stream",
     "text": [
      "12   [ 8  9 10 11 12 13 14 15]   [12]\n",
      "0   [0 1 2 3 4 5 6 7]   [0]\n",
      "\n",
      "Black Box:\n",
      "Test accuracy: 0.0000\n",
      "AUC: 0.0000\n",
      "Avg. Confidence: 0.941310 (0.886667 - 0.995952)\n"
     ]
    }
   ],
   "source": [
    "# Loading the patch file \n",
    "resnet1_patch_target1_bb = np.load('./patches/resnet1_patch_target1_epoch7_bb.npy')\n",
    "resnet1_patch_target0_bb = np.load('./patches/resnet1_patch_target0_epoch7_bb.npy')\n",
    "\n",
    "# Apply\n",
    "probs_patched_images, probs_original_images, indices, true_labels, winp = attack_combined(resnet1,patch_for_0=resnet1_patch_target0_bb,\n",
    "                                                                         patch_for_1=resnet1_patch_target1_bb,\n",
    "                                                                         n_show=0, scale=scale,\n",
    "                                                                         show_indices0=show_indices0,\n",
    "                                                                         show_indices1=show_indices1,\n",
    "                                                                         predict_original=False\n",
    "                                                                                        )\n",
    "# Print\n",
    "print(\"\\nBlack Box:\")\n",
    "printResults(probs_patched_images, keras.utils.to_categorical(true_labels))"
   ]
  },
  {
   "cell_type": "markdown",
   "metadata": {
    "autoscroll": false,
    "ein.hycell": false,
    "ein.tags": "worksheet-0",
    "slideshow": {
     "slide_type": "-"
    }
   },
   "source": [
    "# Photoshop Patch Attacks"
   ]
  },
  {
   "cell_type": "code",
   "execution_count": null,
   "metadata": {
    "autoscroll": false,
    "ein.hycell": false,
    "ein.tags": "worksheet-0",
    "slideshow": {
     "slide_type": "-"
    }
   },
   "outputs": [],
   "source": [
    "# Combined attack with mole-patches\n",
    "file_name0 = './patches/natural_patch_min_p.npy'\n",
    "file_name1 = './patches/natural_patch_max_p.npy'\n",
    "mole_patch0 = np.load(file_name0)\n",
    "mole_patch1 = np.load(file_name1)\n",
    "scale = 0.4\n",
    "probs_patched_images, probs_original_images, indices, true_labels, winp = attack_combined(resnet1,patch_for_0=mole_patch0,\n",
    "                                                                         patch_for_1=mole_patch1,\n",
    "                                                                         n_show=0, scale=scale,\n",
    "                                                                         show_indices0=show_indices0,\n",
    "                                                                         show_indices1=show_indices1,\n",
    "                                                                         predict_original=False\n",
    "                                                                                        )\n",
    "printResults(probs_patched_images, keras.utils.to_categorical(true_labels))"
   ]
  },
  {
   "cell_type": "code",
   "execution_count": null,
   "metadata": {
    "autoscroll": false,
    "ein.hycell": false,
    "ein.tags": "worksheet-0",
    "slideshow": {
     "slide_type": "-"
    }
   },
   "outputs": [],
   "source": []
  },
  {
   "cell_type": "code",
   "execution_count": null,
   "metadata": {},
   "outputs": [],
   "source": []
  }
 ],
 "metadata": {
  "kernelspec": {
   "display_name": "Python 3",
   "language": "python",
   "name": "python3"
  },
  "language_info": {
   "codemirror_mode": {
    "name": "ipython",
    "version": 3
   },
   "file_extension": ".py",
   "mimetype": "text/x-python",
   "name": "python",
   "nbconvert_exporter": "python",
   "pygments_lexer": "ipython3",
   "version": "3.7.11"
  },
  "name": "derm_v3.ipynb"
 },
 "nbformat": 4,
 "nbformat_minor": 2
}

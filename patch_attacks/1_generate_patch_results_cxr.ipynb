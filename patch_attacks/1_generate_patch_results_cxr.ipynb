{
 "cells": [
  {
   "cell_type": "markdown",
   "metadata": {
    "ein.tags": "worksheet-0",
    "slideshow": {
     "slide_type": "-"
    }
   },
   "source": [
    "## Set WD"
   ]
  },
  {
   "cell_type": "code",
   "execution_count": 1,
   "metadata": {
    "autoscroll": false,
    "collapsed": true,
    "ein.hycell": false,
    "ein.tags": "worksheet-0",
    "slideshow": {
     "slide_type": "-"
    }
   },
   "outputs": [],
   "source": [
    "import os\n",
    "os.chdir(\"/home/sgf2/DBMI_server/adversarial_attacks/cxr/\")"
   ]
  },
  {
   "cell_type": "code",
   "execution_count": 1,
   "metadata": {
    "autoscroll": false,
    "ein.hycell": false,
    "ein.tags": "worksheet-0",
    "slideshow": {
     "slide_type": "-"
    }
   },
   "outputs": [],
   "source": [
    "import scipy.stats as st\n",
    "import tensorflow.keras \n",
    "from sklearn import metrics\n",
    "from sklearn.metrics import auc\n",
    "\n",
    "def mean_ci(x):\n",
    "    mn = np.mean(x)\n",
    "    ci = st.t.interval(0.95, len(x)-1, loc=np.mean(x), scale=st.sem(x))\n",
    "    return (mn, ci[0], ci[1])\n",
    "\n",
    "def printResults(model_preds, y_test):\n",
    "    acc = np.mean(np.round(model_preds)[:,0] == y_test[:,0])\n",
    "    print('Test accuracy: %0.4f' % acc)\n",
    "\n",
    "    fpr, tpr, thresholds = metrics.roc_curve(y_test[:,1], model_preds[:,1])\n",
    "    auc_score = auc(fpr,tpr)\n",
    "    print('AUC: %0.4f' % auc_score)\n",
    "\n",
    "    conf = mean_ci(np.max(model_preds, axis = 1))\n",
    "    print('Avg. Confidence: ' + '{0:.6f} '.format(conf[0]) + \\\n",
    "          '({0:.6f}'.format(conf[1]) + ' - {0:.6f})'.format(conf[2]))"
   ]
  },
  {
   "cell_type": "markdown",
   "metadata": {
    "ein.tags": "worksheet-0",
    "slideshow": {
     "slide_type": "-"
    }
   },
   "source": [
    "## Set up"
   ]
  },
  {
   "cell_type": "code",
   "execution_count": 2,
   "metadata": {
    "autoscroll": false,
    "ein.hycell": false,
    "ein.tags": "worksheet-0",
    "slideshow": {
     "slide_type": "-"
    }
   },
   "outputs": [],
   "source": [
    "%load_ext autoreload\n",
    "%autoreload 2\n",
    "\n",
    "%matplotlib inline\n",
    "from craft_attack_patch import *"
   ]
  },
  {
   "cell_type": "markdown",
   "metadata": {
    "ein.tags": "worksheet-0",
    "slideshow": {
     "slide_type": "-"
    }
   },
   "source": [
    "# Adversarial Patch Attack"
   ]
  },
  {
   "cell_type": "markdown",
   "metadata": {
    "ein.tags": "worksheet-0",
    "slideshow": {
     "slide_type": "-"
    }
   },
   "source": [
    "## Train Patches"
   ]
  },
  {
   "cell_type": "code",
   "execution_count": 3,
   "metadata": {},
   "outputs": [
    {
     "name": "stdout",
     "output_type": "stream",
     "text": [
      "WARNING:tensorflow:From /Users/madeline/Documents/GitHub/adversarial-medicine/patch_attacks/craft_attack_patch.py:66: The name tf.Session is deprecated. Please use tf.compat.v1.Session instead.\n",
      "\n",
      "WARNING:tensorflow:From /Users/madeline/Documents/GitHub/adversarial-medicine/patch_attacks/craft_attack_patch.py:200: The name tf.keras.backend.set_session is deprecated. Please use tf.compat.v1.keras.backend.set_session instead.\n",
      "\n",
      "WARNING:tensorflow:From /Users/madeline/Documents/GitHub/adversarial-medicine/patch_attacks/craft_attack_patch.py:207: The name tf.placeholder_with_default is deprecated. Please use tf.compat.v1.placeholder_with_default instead.\n",
      "\n",
      "WARNING:tensorflow:From /Users/madeline/Documents/GitHub/adversarial-medicine/patch_attacks/craft_attack_patch.py:209: The name tf.random_uniform is deprecated. Please use tf.random.uniform instead.\n",
      "\n",
      "WARNING:tensorflow:From /Users/madeline/Documents/GitHub/adversarial-medicine/patch_attacks/craft_attack_patch.py:216: The name tf.get_variable is deprecated. Please use tf.compat.v1.get_variable instead.\n",
      "\n",
      "WARNING:tensorflow:From /Users/madeline/Documents/GitHub/adversarial-medicine/patch_attacks/craft_attack_patch.py:218: The name tf.placeholder is deprecated. Please use tf.compat.v1.placeholder instead.\n",
      "\n",
      "WARNING:tensorflow:From /Users/madeline/Documents/GitHub/adversarial-medicine/patch_attacks/craft_attack_patch.py:220: The name tf.assign is deprecated. Please use tf.compat.v1.assign instead.\n",
      "\n",
      "WARNING:tensorflow:From /Users/madeline/Documents/GitHub/adversarial-medicine/patch_attacks/craft_attack_patch.py:231: The name tf.image.resize_images is deprecated. Please use tf.image.resize instead.\n",
      "\n",
      "WARNING:tensorflow:From /Users/madeline/Documents/GitHub/adversarial-medicine/patch_attacks/craft_attack_patch.py:236: calling dropout (from tensorflow.python.ops.nn_ops) with keep_prob is deprecated and will be removed in a future version.\n",
      "Instructions for updating:\n",
      "Please use `rate` instead of `keep_prob`. Rate should be set to `rate = 1 - keep_prob`.\n",
      "WARNING:tensorflow:From /Users/madeline/Documents/GitHub/adversarial-medicine/patch_attacks/craft_attack_patch.py:316: py_func (from tensorflow.python.ops.script_ops) is deprecated and will be removed in a future version.\n",
      "Instructions for updating:\n",
      "tf.py_func is deprecated in TF V2. Instead, there are two\n",
      "    options available in V2.\n",
      "    - tf.py_function takes a python function which manipulates tf eager\n",
      "    tensors instead of numpy arrays. It's easy to convert a tf eager tensor to\n",
      "    an ndarray (just call tensor.numpy()) but having access to eager tensors\n",
      "    means `tf.py_function`s can use accelerators such as GPUs as well as\n",
      "    being differentiable using a gradient tape.\n",
      "    - tf.numpy_function maintains the semantics of the deprecated tf.py_func\n",
      "    (it is not differentiable, and manipulates numpy arrays). It drops the\n",
      "    stateful argument making all functions stateful.\n",
      "    \n",
      "WARNING:tensorflow:\n",
      "The TensorFlow contrib module will not be included in TensorFlow 2.0.\n",
      "For more information, please see:\n",
      "  * https://github.com/tensorflow/community/blob/master/rfcs/20180907-contrib-sunset.md\n",
      "  * https://github.com/tensorflow/addons\n",
      "  * https://github.com/tensorflow/io (for I/O related ops)\n",
      "If you depend on functionality not listed there, please file an issue.\n",
      "\n",
      "WARNING:tensorflow:From /Users/madeline/opt/anaconda3/lib/python3.7/site-packages/tensorflow_core/python/ops/resource_variable_ops.py:1630: calling BaseResourceVariable.__init__ (from tensorflow.python.ops.resource_variable_ops) with constraint is deprecated and will be removed in a future version.\n",
      "Instructions for updating:\n",
      "If using Keras pass *_constraint arguments to layers.\n",
      "WARNING:tensorflow:From /Users/madeline/Documents/GitHub/adversarial-medicine/patch_attacks/craft_attack_patch.py:264: softmax_cross_entropy_with_logits (from tensorflow.python.ops.nn_ops) is deprecated and will be removed in a future version.\n",
      "Instructions for updating:\n",
      "\n",
      "Future major versions of TensorFlow will allow gradients to flow\n",
      "into the labels input on backprop by default.\n",
      "\n",
      "See `tf.nn.softmax_cross_entropy_with_logits_v2`.\n",
      "\n",
      "WARNING:tensorflow:From /Users/madeline/Documents/GitHub/adversarial-medicine/patch_attacks/craft_attack_patch.py:275: The name tf.train.GradientDescentOptimizer is deprecated. Please use tf.compat.v1.train.GradientDescentOptimizer instead.\n",
      "\n",
      "WARNING:tensorflow:From /Users/madeline/opt/anaconda3/lib/python3.7/site-packages/tensorflow_core/python/ops/math_grad.py:1424: where (from tensorflow.python.ops.array_ops) is deprecated and will be removed in a future version.\n",
      "Instructions for updating:\n",
      "Use tf.where in 2.0, which has the same broadcast rule as np.where\n",
      "Finished loading resnet1, took 10s\n",
      "Finished loading resnet2, took 11s\n"
     ]
    }
   ],
   "source": [
    "# Hyperparameters\n",
    "epochs = 7\n",
    "learning_rate = 5.0\n",
    "\n",
    "# Load the models\n",
    "resnet1 = ModelContainer('resnet1')\n",
    "resnet2 = ModelContainer('resnet2')\n",
    "\n",
    "# White Box\n",
    "model = resnet1"
   ]
  },
  {
   "cell_type": "code",
   "execution_count": 4,
   "metadata": {
    "autoscroll": false,
    "ein.hycell": false,
    "ein.tags": "worksheet-0",
    "slideshow": {
     "slide_type": "-"
    }
   },
   "outputs": [
    {
     "name": "stdout",
     "output_type": "stream",
     "text": [
      "(minibatch 0) loss: 0.07890727\n",
      "(minibatch 1) loss: 0.047167458\n",
      "Loss after epoch 0: 0.06303736567497253\n",
      "(minibatch 0) loss: 0.06889289\n",
      "(minibatch 1) loss: 0.031685874\n",
      "Loss after epoch 1: 0.05028938129544258\n",
      "(minibatch 0) loss: 0.024831343\n",
      "(minibatch 1) loss: 0.024010384\n",
      "Loss after epoch 2: 0.024420863948762417\n",
      "(minibatch 0) loss: 0.034733854\n",
      "(minibatch 1) loss: 0.011770058\n",
      "Loss after epoch 3: 0.023251956328749657\n",
      "(minibatch 0) loss: 0.017316163\n",
      "(minibatch 1) loss: 0.017208152\n",
      "Loss after epoch 4: 0.017262157052755356\n",
      "(minibatch 0) loss: 0.010074705\n",
      "(minibatch 1) loss: 0.035962198\n",
      "Loss after epoch 5: 0.023018451407551765\n",
      "(minibatch 0) loss: 0.021577694\n",
      "(minibatch 1) loss: 0.032837998\n",
      "Loss after epoch 6: 0.02720784582197666\n",
      "(minibatch 0) loss: 2.6175125\n",
      "(minibatch 1) loss: 3.707717\n",
      "Loss after epoch 0: 3.1626147031784058\n",
      "(minibatch 0) loss: 3.4173436\n",
      "(minibatch 1) loss: 2.0859015\n",
      "Loss after epoch 1: 2.7516225576400757\n",
      "(minibatch 0) loss: 2.6628585\n",
      "(minibatch 1) loss: 2.3804598\n",
      "Loss after epoch 2: 2.5216591358184814\n",
      "(minibatch 0) loss: 2.326295\n",
      "(minibatch 1) loss: 1.5073954\n",
      "Loss after epoch 3: 1.9168451428413391\n",
      "(minibatch 0) loss: 0.5810424\n",
      "(minibatch 1) loss: 0.7200929\n",
      "Loss after epoch 4: 0.6505676507949829\n",
      "(minibatch 0) loss: 2.4948015\n",
      "(minibatch 1) loss: 0.8267202\n",
      "Loss after epoch 5: 1.6607608497142792\n",
      "(minibatch 0) loss: 0.11406015\n",
      "(minibatch 1) loss: 0.7720865\n",
      "Loss after epoch 6: 0.4430733248591423\n",
      "(minibatch 0) loss: 0.1461344\n",
      "(minibatch 1) loss: 0.06803532\n",
      "Loss after epoch 0: 0.10708486288785934\n",
      "(minibatch 0) loss: 0.08382862\n",
      "(minibatch 1) loss: 0.026443582\n",
      "Loss after epoch 1: 0.05513610132038593\n",
      "(minibatch 0) loss: 0.14219081\n",
      "(minibatch 1) loss: 0.012479509\n",
      "Loss after epoch 2: 0.07733516162261367\n",
      "(minibatch 0) loss: 0.013517808\n",
      "(minibatch 1) loss: 0.096979715\n",
      "Loss after epoch 3: 0.05524876154959202\n",
      "(minibatch 0) loss: 0.04170206\n",
      "(minibatch 1) loss: 0.09638214\n",
      "Loss after epoch 4: 0.06904209963977337\n",
      "(minibatch 0) loss: 0.036939315\n",
      "(minibatch 1) loss: 0.06568493\n",
      "Loss after epoch 5: 0.051312122493982315\n",
      "(minibatch 0) loss: 0.015627513\n",
      "(minibatch 1) loss: 0.10670239\n",
      "Loss after epoch 6: 0.061164950020611286\n",
      "(minibatch 0) loss: 3.8185065\n",
      "(minibatch 1) loss: 3.5675611\n",
      "Loss after epoch 0: 3.693033814430237\n",
      "(minibatch 0) loss: 3.044469\n",
      "(minibatch 1) loss: 2.2120981\n",
      "Loss after epoch 1: 2.6282836198806763\n",
      "(minibatch 0) loss: 2.441434\n",
      "(minibatch 1) loss: 2.6463645\n",
      "Loss after epoch 2: 2.543899178504944\n",
      "(minibatch 0) loss: 1.8932488\n",
      "(minibatch 1) loss: 1.5251595\n",
      "Loss after epoch 3: 1.7092041373252869\n",
      "(minibatch 0) loss: 1.9813845\n",
      "(minibatch 1) loss: 0.76734287\n",
      "Loss after epoch 4: 1.3743636906147003\n",
      "(minibatch 0) loss: 1.1564088\n",
      "(minibatch 1) loss: 0.6096917\n",
      "Loss after epoch 5: 0.8830502331256866\n",
      "(minibatch 0) loss: 0.13159531\n",
      "(minibatch 1) loss: 0.5289662\n",
      "Loss after epoch 6: 0.33028075098991394\n"
     ]
    }
   ],
   "source": [
    "# Target 0\n",
    "train(model, target_label=0, epochs=epochs, learning_rate=learning_rate)\n",
    "file_name = './patches/resnet1_patch_target0_epoch' + str(epochs) + '_wb.npy'\n",
    "np.save(file_name, model.patch())\n",
    "\n",
    "# Target 1\n",
    "train(model, target_label=1, epochs=epochs, learning_rate=learning_rate)\n",
    "file_name = './patches/resnet1_patch_target1_epoch' + str(epochs) + '_wb.npy'\n",
    "np.save(file_name, model.patch())\n",
    "\n",
    "# Black Box\n",
    "model = resnet2\n",
    "\n",
    "# Target 0\n",
    "train(model, target_label=0, epochs=epochs, learning_rate=learning_rate)\n",
    "file_name = './patches/resnet1_patch_target0_epoch' + str(epochs) + '_bb.npy'\n",
    "np.save(file_name, model.patch())\n",
    "\n",
    "# Target 1\n",
    "train(model, target_label=1, epochs=epochs, learning_rate=learning_rate)\n",
    "file_name = './patches/resnet1_patch_target1_epoch' + str(epochs) + '_bb.npy'\n",
    "np.save(file_name, model.patch())"
   ]
  },
  {
   "cell_type": "markdown",
   "metadata": {
    "ein.tags": "worksheet-0",
    "slideshow": {
     "slide_type": "-"
    }
   },
   "source": [
    "## Display Results"
   ]
  },
  {
   "cell_type": "code",
   "execution_count": 5,
   "metadata": {},
   "outputs": [
    {
     "data": {
      "text/plain": [
       "16"
      ]
     },
     "execution_count": 5,
     "metadata": {},
     "output_type": "execute_result"
    }
   ],
   "source": [
    "len(image_loader.X_test)"
   ]
  },
  {
   "cell_type": "code",
   "execution_count": 6,
   "metadata": {
    "autoscroll": false,
    "ein.hycell": false,
    "ein.tags": "worksheet-0",
    "scrolled": true,
    "slideshow": {
     "slide_type": "-"
    }
   },
   "outputs": [],
   "source": [
    "################################# THIS IS THE ONLY CELL THAT WAS ADDED #############\n",
    "# Pick the images to show (attack). Here I randomly chose 2 from each class\n",
    "show(image_loader.X_test[3]) # label 0\n",
    "show(image_loader.X_test[1]) # label 0 \n",
    "show(image_loader.X_test[7]) # label 1\n",
    "show(image_loader.X_test[15]) # label 1"
   ]
  },
  {
   "cell_type": "code",
   "execution_count": 7,
   "metadata": {},
   "outputs": [
    {
     "name": "stdout",
     "output_type": "stream",
     "text": [
      "Finished loading resnet1, took 11s\n",
      "Finished loading resnet2, took 11s\n"
     ]
    }
   ],
   "source": [
    "################################# THIS IS THE ONLY CELL THAT WAS MODIFIED #############\n",
    "epochs = 7\n",
    "# Load the models\n",
    "resnet1 = ModelContainer('resnet1')\n",
    "resnet2 = ModelContainer('resnet2')\n",
    "\n",
    "# Loading the patch file \n",
    "resnet1_patch_target1_wb = np.load('./patches/resnet1_patch_target1_epoch' + str(epochs) + '_wb.npy')\n",
    "resnet1_patch_target0_wb = np.load('./patches/resnet1_patch_target0_epoch' + str(epochs) + '_wb.npy')"
   ]
  },
  {
   "cell_type": "code",
   "execution_count": 8,
   "metadata": {
    "autoscroll": false,
    "ein.hycell": false,
    "ein.tags": "worksheet-0",
    "scrolled": false,
    "slideshow": {
     "slide_type": "-"
    }
   },
   "outputs": [
    {
     "name": "stdout",
     "output_type": "stream",
     "text": [
      "9   [ 8  9 10 11 12 13 14 15]   [9]\n",
      "5   [0 1 2 3 4 5 6 7]   [5]\n",
      "White Box:\n",
      "Test accuracy: 0.0000\n",
      "AUC: 0.0000\n",
      "Avg. Confidence: 0.951133 (0.916495 - 0.985771)\n"
     ]
    }
   ],
   "source": [
    "# Indices of images to show (use n_show=0 when using show_indices feature)\n",
    "show_indices0 = [9]#[7868] # attack with target label 0\n",
    "show_indices1 = [5]#[384]\n",
    "\n",
    "# Apply\n",
    "scale = 0.4\n",
    "probs_patched_images, probs_original_images,indices, true_labels, winp = attack_combined(resnet1,patch_for_0=resnet1_patch_target0_wb,\n",
    "                                                                         patch_for_1=resnet1_patch_target1_wb,\n",
    "                                                                         n_show=0, scale=scale,\n",
    "                                                                         show_indices0=show_indices0,\n",
    "                                                                         show_indices1=show_indices1,\n",
    "                                                                         predict_original=False\n",
    "                                                                                        )\n",
    "\n",
    "\n",
    "# Print\n",
    "print(\"White Box:\")\n",
    "printResults(probs_patched_images, keras.utils.to_categorical(true_labels))"
   ]
  },
  {
   "cell_type": "code",
   "execution_count": 9,
   "metadata": {
    "autoscroll": false,
    "ein.hycell": false,
    "ein.tags": "worksheet-0",
    "scrolled": true,
    "slideshow": {
     "slide_type": "-"
    }
   },
   "outputs": [
    {
     "name": "stdout",
     "output_type": "stream",
     "text": [
      "9   [ 8  9 10 11 12 13 14 15]   [9]\n",
      "5   [0 1 2 3 4 5 6 7]   [5]\n",
      "\n",
      "Black Box:\n",
      "Test accuracy: 0.0625\n",
      "AUC: 0.0000\n",
      "Avg. Confidence: 0.870792 (0.786580 - 0.955004)\n"
     ]
    }
   ],
   "source": [
    "# Loading the patch file \n",
    "resnet1_patch_target1_bb = np.load('./patches/resnet1_patch_target1_epoch7_bb.npy')\n",
    "resnet1_patch_target0_bb = np.load('./patches/resnet1_patch_target0_epoch7_bb.npy')\n",
    "\n",
    "# Apply\n",
    "probs_patched_images, probs_original_images, indices, true_labels, winp = attack_combined(resnet1,patch_for_0=resnet1_patch_target0_bb,\n",
    "                                                                         patch_for_1=resnet1_patch_target1_bb,\n",
    "                                                                         n_show=0, scale=scale,\n",
    "                                                                         show_indices0=show_indices0,\n",
    "                                                                         show_indices1=show_indices1,\n",
    "                                                                         predict_original=False\n",
    "                                                                                        )\n",
    "# Print\n",
    "print(\"\\nBlack Box:\")\n",
    "printResults(probs_patched_images, keras.utils.to_categorical(true_labels))"
   ]
  },
  {
   "cell_type": "markdown",
   "metadata": {
    "autoscroll": false,
    "ein.hycell": false,
    "ein.tags": "worksheet-0",
    "slideshow": {
     "slide_type": "-"
    }
   },
   "source": [
    "# Photoshop Patch Attacks"
   ]
  },
  {
   "cell_type": "code",
   "execution_count": 10,
   "metadata": {
    "autoscroll": false,
    "ein.hycell": false,
    "ein.tags": "worksheet-0",
    "slideshow": {
     "slide_type": "-"
    }
   },
   "outputs": [
    {
     "ename": "FileNotFoundError",
     "evalue": "[Errno 2] No such file or directory: './patches/natural_patch_min_p.npy'",
     "output_type": "error",
     "traceback": [
      "\u001b[0;31m---------------------------------------------------------------------------\u001b[0m",
      "\u001b[0;31mFileNotFoundError\u001b[0m                         Traceback (most recent call last)",
      "\u001b[0;32m<ipython-input-10-4792c5174943>\u001b[0m in \u001b[0;36m<module>\u001b[0;34m\u001b[0m\n\u001b[1;32m      2\u001b[0m \u001b[0mfile_name0\u001b[0m \u001b[0;34m=\u001b[0m \u001b[0;34m'./patches/natural_patch_min_p.npy'\u001b[0m\u001b[0;34m\u001b[0m\u001b[0;34m\u001b[0m\u001b[0m\n\u001b[1;32m      3\u001b[0m \u001b[0mfile_name1\u001b[0m \u001b[0;34m=\u001b[0m \u001b[0;34m'./patches/natural_patch_max_p.npy'\u001b[0m\u001b[0;34m\u001b[0m\u001b[0;34m\u001b[0m\u001b[0m\n\u001b[0;32m----> 4\u001b[0;31m \u001b[0mmole_patch0\u001b[0m \u001b[0;34m=\u001b[0m \u001b[0mnp\u001b[0m\u001b[0;34m.\u001b[0m\u001b[0mload\u001b[0m\u001b[0;34m(\u001b[0m\u001b[0mfile_name0\u001b[0m\u001b[0;34m)\u001b[0m\u001b[0;34m\u001b[0m\u001b[0;34m\u001b[0m\u001b[0m\n\u001b[0m\u001b[1;32m      5\u001b[0m \u001b[0mmole_patch1\u001b[0m \u001b[0;34m=\u001b[0m \u001b[0mnp\u001b[0m\u001b[0;34m.\u001b[0m\u001b[0mload\u001b[0m\u001b[0;34m(\u001b[0m\u001b[0mfile_name1\u001b[0m\u001b[0;34m)\u001b[0m\u001b[0;34m\u001b[0m\u001b[0;34m\u001b[0m\u001b[0m\n\u001b[1;32m      6\u001b[0m \u001b[0mscale\u001b[0m \u001b[0;34m=\u001b[0m \u001b[0;36m0.4\u001b[0m\u001b[0;34m\u001b[0m\u001b[0;34m\u001b[0m\u001b[0m\n",
      "\u001b[0;32m~/opt/anaconda3/lib/python3.7/site-packages/numpy/lib/npyio.py\u001b[0m in \u001b[0;36mload\u001b[0;34m(file, mmap_mode, allow_pickle, fix_imports, encoding)\u001b[0m\n\u001b[1;32m    414\u001b[0m             \u001b[0mown_fid\u001b[0m \u001b[0;34m=\u001b[0m \u001b[0;32mFalse\u001b[0m\u001b[0;34m\u001b[0m\u001b[0;34m\u001b[0m\u001b[0m\n\u001b[1;32m    415\u001b[0m         \u001b[0;32melse\u001b[0m\u001b[0;34m:\u001b[0m\u001b[0;34m\u001b[0m\u001b[0;34m\u001b[0m\u001b[0m\n\u001b[0;32m--> 416\u001b[0;31m             \u001b[0mfid\u001b[0m \u001b[0;34m=\u001b[0m \u001b[0mstack\u001b[0m\u001b[0;34m.\u001b[0m\u001b[0menter_context\u001b[0m\u001b[0;34m(\u001b[0m\u001b[0mopen\u001b[0m\u001b[0;34m(\u001b[0m\u001b[0mos_fspath\u001b[0m\u001b[0;34m(\u001b[0m\u001b[0mfile\u001b[0m\u001b[0;34m)\u001b[0m\u001b[0;34m,\u001b[0m \u001b[0;34m\"rb\"\u001b[0m\u001b[0;34m)\u001b[0m\u001b[0;34m)\u001b[0m\u001b[0;34m\u001b[0m\u001b[0;34m\u001b[0m\u001b[0m\n\u001b[0m\u001b[1;32m    417\u001b[0m             \u001b[0mown_fid\u001b[0m \u001b[0;34m=\u001b[0m \u001b[0;32mTrue\u001b[0m\u001b[0;34m\u001b[0m\u001b[0;34m\u001b[0m\u001b[0m\n\u001b[1;32m    418\u001b[0m \u001b[0;34m\u001b[0m\u001b[0m\n",
      "\u001b[0;31mFileNotFoundError\u001b[0m: [Errno 2] No such file or directory: './patches/natural_patch_min_p.npy'"
     ]
    }
   ],
   "source": [
    "# Combined attack with mole-patches\n",
    "file_name0 = './patches/natural_patch_min_p.npy'\n",
    "file_name1 = './patches/natural_patch_max_p.npy'\n",
    "mole_patch0 = np.load(file_name0)\n",
    "mole_patch1 = np.load(file_name1)\n",
    "scale = 0.4\n",
    "probs_patched_images, probs_original_images, indices, true_labels, winp = attack_combined(resnet1,patch_for_0=mole_patch0,\n",
    "                                                                         patch_for_1=mole_patch1,\n",
    "                                                                         n_show=0, scale=scale,\n",
    "                                                                         show_indices0=show_indices0,\n",
    "                                                                         show_indices1=show_indices1,\n",
    "                                                                         predict_original=False\n",
    "                                                                                        )\n",
    "printResults(probs_patched_images, keras.utils.to_categorical(true_labels))"
   ]
  },
  {
   "cell_type": "code",
   "execution_count": 60,
   "metadata": {
    "autoscroll": false,
    "ein.hycell": false,
    "ein.tags": "worksheet-0",
    "slideshow": {
     "slide_type": "-"
    }
   },
   "outputs": [
    {
     "name": "stdout",
     "output_type": "stream",
     "text": [
      "Test accuracy: 0.0137\n",
      "AUC: 0.0027\n",
      "Avg. Confidence: 0.963693 (0.956826 - 0.970560)\n"
     ]
    }
   ],
   "source": []
  }
 ],
 "metadata": {
  "kernelspec": {
   "display_name": "Python 3",
   "language": "python",
   "name": "python3"
  },
  "language_info": {
   "codemirror_mode": {
    "name": "ipython",
    "version": 3
   },
   "file_extension": ".py",
   "mimetype": "text/x-python",
   "name": "python",
   "nbconvert_exporter": "python",
   "pygments_lexer": "ipython3",
   "version": "3.7.11"
  },
  "name": "derm_v3.ipynb"
 },
 "nbformat": 4,
 "nbformat_minor": 2
}
